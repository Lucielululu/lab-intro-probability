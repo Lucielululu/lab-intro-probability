{
 "cells": [
  {
   "cell_type": "markdown",
   "metadata": {},
   "source": [
    "# Lab | Intro to Probability"
   ]
  },
  {
   "cell_type": "markdown",
   "metadata": {},
   "source": [
    "**Objective**\n",
    "\n",
    "Welcome to this Intro to Probability lab, where we explore decision-making scenarios through the lens of probability and strategic analysis. In the business world, making informed decisions is crucial, especially when faced with uncertainties. This lab focuses on scenarios where probabilistic outcomes play a significant role in shaping strategies and outcomes. Students will engage in exercises that require assessing and choosing optimal paths based on data-driven insights. The goal is to enhance your skills by applying probability concepts to solve real-world problems."
   ]
  },
  {
   "cell_type": "markdown",
   "metadata": {},
   "source": [
    "**Challenge 1**"
   ]
  },
  {
   "cell_type": "markdown",
   "metadata": {},
   "source": [
    "#### Ironhack Airlines \n",
    "\n",
    "Often Airlines sell more tickets than they have seats available, this is called overbooking. Consider the following:\n",
    "- A plane has 450 seats. \n",
    "- Based on historical data we conclude that each individual passenger has a 3% chance of missing it's flight. \n",
    "\n",
    "If the Ironhack Airlines routinely sells 460 tickets, what is the chance that they have a seats for all passenger?"
   ]
  },
  {
   "cell_type": "code",
   "execution_count": 2,
   "metadata": {},
   "outputs": [
    {
     "name": "stdout",
     "output_type": "stream",
     "text": [
      "有足够座位的概率约为: 0.8801，即 88.01%\n"
     ]
    }
   ],
   "source": [
    "import scipy.stats as stats\n",
    "import numpy as np\n",
    "\n",
    "# 参数\n",
    "n = 460           # 卖出的票数\n",
    "p = 0.97          # 每位乘客登机的概率\n",
    "seats = 450       # 飞机座位数\n",
    "\n",
    "# 期望值与标准差\n",
    "mu = n * p\n",
    "sigma = np.sqrt(n * p * (1 - p))\n",
    "\n",
    "# 连续性修正：P(X ≤ 450) ≈ P(Z ≤ (450 + 0.5 - μ)/σ)\n",
    "z = (seats + 0.5 - mu) / sigma\n",
    "\n",
    "# 计算概率\n",
    "prob = stats.norm.cdf(z)\n",
    "\n",
    "# 输出结果\n",
    "print(f\"有足够座位的概率约为: {prob:.4f}，即 {prob*100:.2f}%\")\n"
   ]
  },
  {
   "cell_type": "markdown",
   "metadata": {},
   "source": [
    "**Challenge 2**"
   ]
  },
  {
   "cell_type": "markdown",
   "metadata": {},
   "source": [
    "#### Ironhack Call Center "
   ]
  },
  {
   "cell_type": "markdown",
   "metadata": {},
   "source": [
    "Suppose a customer service representative at a call center is handling customer complaints. Consider the following:\n",
    "- The probability of successfully resolving a customer complaint on the first attempt is 0.3. \n",
    "\n",
    "\n",
    "What is the probability that the representative needs to make at least three attempts before successfully resolving a customer complaint?"
   ]
  },
  {
   "cell_type": "code",
   "execution_count": 3,
   "metadata": {},
   "outputs": [
    {
     "name": "stdout",
     "output_type": "stream",
     "text": [
      "至少第三次才成功的概率是: 0.4900，即 49.00%\n"
     ]
    }
   ],
   "source": [
    "# 几何分布参数\n",
    "p = 0.3  # 成功的概率\n",
    "\n",
    "# 计算至少第三次才成功的概率（前两次都失败）\n",
    "prob = (1 - p) ** 2\n",
    "\n",
    "# 输出结果\n",
    "print(f\"至少第三次才成功的概率是: {prob:.4f}，即 {prob*100:.2f}%\")\n"
   ]
  },
  {
   "cell_type": "markdown",
   "metadata": {},
   "source": [
    "**Challenge 3**"
   ]
  },
  {
   "cell_type": "markdown",
   "metadata": {},
   "source": [
    "#### Ironhack Website"
   ]
  },
  {
   "cell_type": "markdown",
   "metadata": {},
   "source": [
    "Consider a scenario related to Ironhack website traffic. Where:\n",
    "- our website takes on average 500 visits per hour.\n",
    "- the website's server is designed to handle up to 550 vists per hour.\n",
    "\n",
    "\n",
    "What is the probability of the website server being overwhelmed?"
   ]
  },
  {
   "cell_type": "code",
   "execution_count": 4,
   "metadata": {},
   "outputs": [
    {
     "name": "stdout",
     "output_type": "stream",
     "text": [
      "服务器过载的概率约为: 0.0120，即 1.20%\n"
     ]
    }
   ],
   "source": [
    "import scipy.stats as stats\n",
    "import numpy as np\n",
    "\n",
    "# 参数\n",
    "lambda_poisson = 500\n",
    "server_capacity = 550\n",
    "\n",
    "# 正态近似参数\n",
    "mu = lambda_poisson\n",
    "sigma = np.sqrt(lambda_poisson)\n",
    "\n",
    "# 连续性修正：P(X > 550) ≈ P(Z > (550 + 0.5 - mu) / sigma)\n",
    "z = (server_capacity + 0.5 - mu) / sigma\n",
    "prob = 1 - stats.norm.cdf(z)\n",
    "\n",
    "# 输出结果\n",
    "print(f\"服务器过载的概率约为: {prob:.4f}，即 {prob*100:.2f}%\")\n"
   ]
  },
  {
   "cell_type": "markdown",
   "metadata": {},
   "source": [
    "What is the probability of being overwhelmed at some point during a day? (consider 24hours)"
   ]
  },
  {
   "cell_type": "code",
   "execution_count": 5,
   "metadata": {},
   "outputs": [
    {
     "name": "stdout",
     "output_type": "stream",
     "text": [
      "一天中至少一次过载的概率约为: 0.2497，即 24.97%\n"
     ]
    }
   ],
   "source": [
    "# 单小时过载概率\n",
    "hourly_overload_prob = 0.0119\n",
    "\n",
    "# 全天无过载的概率\n",
    "no_overload_24h = (1 - hourly_overload_prob) ** 24\n",
    "\n",
    "# 至少一次过载的概率\n",
    "at_least_one_overload = 1 - no_overload_24h\n",
    "\n",
    "# 输出结果\n",
    "print(f\"一天中至少一次过载的概率约为: {at_least_one_overload:.4f}，即 {at_least_one_overload*100:.2f}%\")\n"
   ]
  },
  {
   "cell_type": "markdown",
   "metadata": {},
   "source": [
    "**Challenge 4**"
   ]
  },
  {
   "cell_type": "markdown",
   "metadata": {},
   "source": [
    "#### Ironhack Helpdesk"
   ]
  },
  {
   "cell_type": "markdown",
   "metadata": {},
   "source": [
    "Consider a scenario related to the time between arrivals of customers at a service desk.\n",
    "\n",
    "On average, a customers arrives every 10minutes.\n",
    "\n",
    "What is the probability that the next customer will arrive within the next 5 minutes?"
   ]
  },
  {
   "cell_type": "code",
   "execution_count": 6,
   "metadata": {},
   "outputs": [
    {
     "name": "stdout",
     "output_type": "stream",
     "text": [
      "下一位客户在5分钟内到达的概率约为: 0.3935，即 39.35%\n"
     ]
    }
   ],
   "source": [
    "import numpy as np\n",
    "\n",
    "# 平均间隔（分钟）\n",
    "mean_time = 10\n",
    "lambda_exp = 1 / mean_time\n",
    "\n",
    "# 要计算5分钟内到达的概率\n",
    "t = 5\n",
    "prob = 1 - np.exp(-lambda_exp * t)\n",
    "\n",
    "# 输出结果\n",
    "print(f\"下一位客户在5分钟内到达的概率约为: {prob:.4f}，即 {prob*100:.2f}%\")\n"
   ]
  },
  {
   "cell_type": "markdown",
   "metadata": {},
   "source": [
    "If there is no customer for 15minutes, employees can that a 5minutes break.\n",
    "\n",
    "What is the probability an employee taking a break?"
   ]
  },
  {
   "cell_type": "code",
   "execution_count": 7,
   "metadata": {},
   "outputs": [
    {
     "name": "stdout",
     "output_type": "stream",
     "text": [
      "员工有休息机会的概率约为: 0.2231，即 22.31%\n"
     ]
    }
   ],
   "source": [
    "import numpy as np\n",
    "\n",
    "# 平均间隔（分钟）\n",
    "mean_time = 10\n",
    "lambda_exp = 1 / mean_time\n",
    "\n",
    "# 15分钟无客户到达的概率\n",
    "t = 15\n",
    "prob = np.exp(-lambda_exp * t)\n",
    "\n",
    "# 输出结果\n",
    "print(f\"员工有休息机会的概率约为: {prob:.4f}，即 {prob*100:.2f}%\")\n"
   ]
  },
  {
   "cell_type": "markdown",
   "metadata": {},
   "source": [
    "**Challenge 5**"
   ]
  },
  {
   "cell_type": "markdown",
   "metadata": {},
   "source": [
    "The weights of a certain species of birds follow a normal distribution with a mean weight of 150 grams and a standard deviation of 10 grams. \n",
    "\n",
    "- If we randomly select a bird, what is the probability that its weight is between 140 and 160 grams?"
   ]
  },
  {
   "cell_type": "code",
   "execution_count": 8,
   "metadata": {},
   "outputs": [
    {
     "name": "stdout",
     "output_type": "stream",
     "text": [
      "鸟体重在140g到160g之间的概率约为: 0.6827，即 68.27%\n"
     ]
    }
   ],
   "source": [
    "import scipy.stats as stats\n",
    "\n",
    "# 参数\n",
    "mu = 150\n",
    "sigma = 10\n",
    "\n",
    "# 区间\n",
    "lower = 140\n",
    "upper = 160\n",
    "\n",
    "# 计算概率\n",
    "prob = stats.norm.cdf(upper, mu, sigma) - stats.norm.cdf(lower, mu, sigma)\n",
    "\n",
    "# 输出结果\n",
    "print(f\"鸟体重在140g到160g之间的概率约为: {prob:.4f}，即 {prob*100:.2f}%\")\n"
   ]
  },
  {
   "cell_type": "markdown",
   "metadata": {},
   "source": [
    "**Challenge 6**"
   ]
  },
  {
   "cell_type": "markdown",
   "metadata": {},
   "source": [
    "If the lifetime (in hours) of a certain electronic component follows an exponential distribution with a mean lifetime of 50 hours, what is the probability that the component fails within the first 30 hours?"
   ]
  },
  {
   "cell_type": "code",
   "execution_count": 9,
   "metadata": {},
   "outputs": [
    {
     "name": "stdout",
     "output_type": "stream",
     "text": [
      "元件在前30小时内失效的概率约为: 0.4512，即 45.12%\n"
     ]
    }
   ],
   "source": [
    "import numpy as np\n",
    "\n",
    "# 平均寿命\n",
    "mean_lifetime = 50\n",
    "lambda_exp = 1 / mean_lifetime\n",
    "\n",
    "# 要计算的时间点\n",
    "t = 30\n",
    "prob = 1 - np.exp(-lambda_exp * t)\n",
    "\n",
    "# 输出结果\n",
    "print(f\"元件在前30小时内失效的概率约为: {prob:.4f}，即 {prob*100:.2f}%\")\n"
   ]
  }
 ],
 "metadata": {
  "kernelspec": {
   "display_name": "base",
   "language": "python",
   "name": "python3"
  },
  "language_info": {
   "codemirror_mode": {
    "name": "ipython",
    "version": 3
   },
   "file_extension": ".py",
   "mimetype": "text/x-python",
   "name": "python",
   "nbconvert_exporter": "python",
   "pygments_lexer": "ipython3",
   "version": "3.12.7"
  }
 },
 "nbformat": 4,
 "nbformat_minor": 4
}
